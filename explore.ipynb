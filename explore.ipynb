{
 "cells": [
  {
   "cell_type": "markdown",
   "metadata": {},
   "source": [
    "# Exploring the DC3 dataset"
   ]
  },
  {
   "cell_type": "markdown",
   "metadata": {},
   "source": [
    "Explore the DC3 dataset to extract physical quantities which were not explicitely calculated. The dataset was used for training ML model for structural recognition. We have made the annotated set which includes information not just about the structure, but also about the simulation method (MD), including temperature, potential."
   ]
  },
  {
   "cell_type": "markdown",
   "metadata": {},
   "source": [
    "Start with imports"
   ]
  },
  {
   "cell_type": "code",
   "execution_count": 1,
   "metadata": {},
   "outputs": [],
   "source": [
    "import matplotlib.pyplot as plt\n",
    "import numpy as np\n",
    "from pychromatic import Multiplot\n",
    "import matplotlib\n",
    "from atomrdf import System, KnowledgeGraph"
   ]
  },
  {
   "cell_type": "markdown",
   "metadata": {},
   "source": [
    "Unarchive the dataset. Can be done with either a tar archive or simply a folder."
   ]
  },
  {
   "cell_type": "code",
   "execution_count": 2,
   "metadata": {},
   "outputs": [],
   "source": [
    "#kg = KnowledgeGraph.unarchive('DC3_dataset_00.tar.gz')\n",
    "kg = KnowledgeGraph.unarchive('DC3_dataset_00', compress=False)"
   ]
  },
  {
   "cell_type": "code",
   "execution_count": 3,
   "metadata": {},
   "outputs": [
    {
     "data": {
      "text/plain": [
       "2339"
      ]
     },
     "execution_count": 3,
     "metadata": {},
     "output_type": "execute_result"
    }
   ],
   "source": [
    "kg.n_samples"
   ]
  },
  {
   "cell_type": "markdown",
   "metadata": {},
   "source": [
    "There are more than 2000 MD snapshots in this dataset. We choose an element, and query the relevant data."
   ]
  },
  {
   "cell_type": "code",
   "execution_count": 4,
   "metadata": {},
   "outputs": [],
   "source": [
    "element = 'Al'"
   ]
  },
  {
   "cell_type": "code",
   "execution_count": 5,
   "metadata": {},
   "outputs": [],
   "source": [
    "condition = (kg.terms.cmso.hasChemicalSymbol==element) & (kg.terms.cmso.hasElementRatio==1.0) & (kg.terms.rdfs.label@kg.terms.asmo.InputParameter=='temperature') & (kg.terms.rdfs.label@kg.terms.cmso.CalculatedProperty=='Volume')"
   ]
  },
  {
   "cell_type": "code",
   "execution_count": 1,
   "metadata": {},
   "outputs": [
    {
     "ename": "NameError",
     "evalue": "name 'kg' is not defined",
     "output_type": "error",
     "traceback": [
      "\u001b[0;31m---------------------------------------------------------------------------\u001b[0m",
      "\u001b[0;31mNameError\u001b[0m                                 Traceback (most recent call last)",
      "Cell \u001b[0;32mIn[1], line 1\u001b[0m\n\u001b[0;32m----> 1\u001b[0m condition \u001b[38;5;241m=\u001b[39m (\u001b[43mkg\u001b[49m\u001b[38;5;241m.\u001b[39mterms\u001b[38;5;241m.\u001b[39mcmso\u001b[38;5;241m.\u001b[39mhasChemicalSymbol\u001b[38;5;241m==\u001b[39melement) \u001b[38;5;241m&\u001b[39m (kg\u001b[38;5;241m.\u001b[39mterms\u001b[38;5;241m.\u001b[39mcmso\u001b[38;5;241m.\u001b[39mhasElementRatio\u001b[38;5;241m==\u001b[39m\u001b[38;5;241m1.0\u001b[39m) \u001b[38;5;241m&\u001b[39m (kg\u001b[38;5;241m.\u001b[39mterms\u001b[38;5;241m.\u001b[39mrdfs\u001b[38;5;241m.\u001b[39mlabel\u001b[38;5;129m@kg\u001b[39m\u001b[38;5;241m.\u001b[39mterms\u001b[38;5;241m.\u001b[39masmo\u001b[38;5;241m.\u001b[39mInputParameter\u001b[38;5;241m==\u001b[39m\u001b[38;5;124m'\u001b[39m\u001b[38;5;124mtemperature\u001b[39m\u001b[38;5;124m'\u001b[39m) \u001b[38;5;241m&\u001b[39m (kg\u001b[38;5;241m.\u001b[39mterms\u001b[38;5;241m.\u001b[39mrdfs\u001b[38;5;241m.\u001b[39mlabel\u001b[38;5;129m@kg\u001b[39m\u001b[38;5;241m.\u001b[39mterms\u001b[38;5;241m.\u001b[39mcmso\u001b[38;5;241m.\u001b[39mCalculatedProperty\u001b[38;5;241m==\u001b[39m\u001b[38;5;124m'\u001b[39m\u001b[38;5;124mVolume\u001b[39m\u001b[38;5;124m'\u001b[39m)\n",
      "\u001b[0;31mNameError\u001b[0m: name 'kg' is not defined"
     ]
    }
   ],
   "source": [
    "condition = (kg.terms.cmso.hasChemicalSymbol==element) & \\\n",
    "            (kg.terms.cmso.hasElementRatio==1.0) & \\\n",
    "            (kg.terms.rdfs.label@kg.terms.asmo.InputParameter=='temperature') & \\\n",
    "            (kg.terms.rdfs.label@kg.terms.cmso.CalculatedProperty=='Volume')\n",
    "\n",
    "kg.auto_query(kg.terms.cmso.AtomicScaleSample, \n",
    "             [condition,\n",
    "              kg.terms.cmso.hasReference@kg.terms.asmo.hasInteratomicPotential, \n",
    "              kg.terms.asmo.hasValue@kg.terms.asmo.InputParameter,\n",
    "              kg.terms.asmo.hasValue@kg.terms.cmso.CalculatedProperty,]\n",
    "             )"
   ]
  },
  {
   "cell_type": "code",
   "execution_count": 6,
   "metadata": {},
   "outputs": [
    {
     "data": {
      "text/plain": [
       "'PREFIX cmso: <http://purls.helmholtz-metadaten.de/cmso/>\\nPREFIX qudt: <http://qudt.org/schema/qudt/>\\nPREFIX pldo: <http://purls.helmholtz-metadaten.de/pldo/>\\nPREFIX podo: <http://purls.helmholtz-metadaten.de/podo/>\\nPREFIX asmo: <http://purls.helmholtz-metadaten.de/asmo/>\\nPREFIX ns: <http://www.w3.org/ns/>\\nPREFIX calculation: <https://w3id.org/mdo/calculation/>\\nPREFIX ldo: <http://purls.helmholtz-metadaten.de/cdos/ldo/>\\nPREFIX prov: <http://www.w3.org/ns/prov#>\\nPREFIX rdf: <http://www.w3.org/1999/02/22-rdf-syntax-ns#>\\nPREFIX rdfs: <http://www.w3.org/2000/01/rdf-schema#>\\nSELECT DISTINCT ?AtomicScaleSample ?hasChemicalSymbolvalue ?hasInteratomicPotential_hasReferencevalue ?InputParameter_hasValuevalue ?CalculatedProperty_hasValuevalue ?hasElementRatiovalue ?InputParameter_labelvalue ?CalculatedProperty_labelvalue\\nWHERE {\\n    ?AtomicScaleSample cmso:hasSpecies ?cmso_Atom .\\n    ?cmso_Atom cmso:hasElement ?cmso_ChemicalElement .\\n    ?cmso_ChemicalElement cmso:hasChemicalSymbol ?hasChemicalSymbolvalue .\\n    ?AtomicScaleSample prov:wasGeneratedBy ?asmo_EnergyCalculation .\\n    ?asmo_EnergyCalculation asmo:hasInteratomicPotential ?hasInteratomicPotential .\\n    ?hasInteratomicPotential cmso:hasReference ?hasInteratomicPotential_hasReferencevalue .\\n    ?asmo_EnergyCalculation asmo:hasInputParameter ?InputParameter .\\n    ?InputParameter asmo:hasValue ?InputParameter_hasValuevalue .\\n    ?AtomicScaleSample cmso:hasCalculatedProperty ?CalculatedProperty .\\n    ?CalculatedProperty asmo:hasValue ?CalculatedProperty_hasValuevalue .\\n    ?cmso_ChemicalElement cmso:hasElementRatio ?hasElementRatiovalue .\\n    ?InputParameter rdfs:label ?InputParameter_labelvalue .\\n    ?CalculatedProperty rdfs:label ?CalculatedProperty_labelvalue .\\n    ?AtomicScaleSample rdf:type cmso:AtomicScaleSample .\\nFILTER ((((?hasChemicalSymbolvalue=\"Al\"^^xsd:string)&&(?hasElementRatiovalue=\"1.0\"^^xsd:float))&&(?InputParameter_labelvalue=\"temperature\"^^xsd:string))&&(?CalculatedProperty_labelvalue=\"Volume\"^^xsd:string))\\n}'"
      ]
     },
     "execution_count": 6,
     "metadata": {},
     "output_type": "execute_result"
    }
   ],
   "source": [
    "q = kg.auto_query(kg.terms.cmso.AtomicScaleSample, \n",
    "                  [condition,\n",
    "                   kg.terms.cmso.hasReference@kg.terms.asmo.hasInteratomicPotential, \n",
    "                   kg.terms.asmo.hasValue@kg.terms.asmo.InputParameter,\n",
    "                  kg.terms.asmo.hasValue@kg.terms.cmso.CalculatedProperty,], return_query=True)\n",
    "q"
   ]
  },
  {
   "cell_type": "code",
   "execution_count": 7,
   "metadata": {
    "scrolled": true
   },
   "outputs": [
    {
     "name": "stdout",
     "output_type": "stream",
     "text": [
      "PREFIX cmso: <http://purls.helmholtz-metadaten.de/cmso/>\n",
      "PREFIX qudt: <http://qudt.org/schema/qudt/>\n",
      "PREFIX pldo: <http://purls.helmholtz-metadaten.de/pldo/>\n",
      "PREFIX podo: <http://purls.helmholtz-metadaten.de/podo/>\n",
      "PREFIX asmo: <http://purls.helmholtz-metadaten.de/asmo/>\n",
      "PREFIX ns: <http://www.w3.org/ns/>\n",
      "PREFIX calculation: <https://w3id.org/mdo/calculation/>\n",
      "PREFIX ldo: <http://purls.helmholtz-metadaten.de/cdos/ldo/>\n",
      "PREFIX prov: <http://www.w3.org/ns/prov#>\n",
      "PREFIX rdf: <http://www.w3.org/1999/02/22-rdf-syntax-ns#>\n",
      "PREFIX rdfs: <http://www.w3.org/2000/01/rdf-schema#>\n",
      "SELECT DISTINCT ?AtomicScaleSample ?hasChemicalSymbolvalue ?hasInteratomicPotential_hasReferencevalue ?InputParameter_hasValuevalue ?CalculatedProperty_hasValuevalue ?hasElementRatiovalue ?InputParameter_labelvalue ?CalculatedProperty_labelvalue\n",
      "WHERE {\n",
      "    ?AtomicScaleSample cmso:hasSpecies ?cmso_Atom .\n",
      "    ?cmso_Atom cmso:hasElement ?cmso_ChemicalElement .\n",
      "    ?cmso_ChemicalElement cmso:hasChemicalSymbol ?hasChemicalSymbolvalue .\n",
      "    ?AtomicScaleSample prov:wasGeneratedBy ?asmo_EnergyCalculation .\n",
      "    ?asmo_EnergyCalculation asmo:hasInteratomicPotential ?hasInteratomicPotential .\n",
      "    ?hasInteratomicPotential cmso:hasReference ?hasInteratomicPotential_hasReferencevalue .\n",
      "    ?asmo_EnergyCalculation asmo:hasInputParameter ?InputParameter .\n",
      "    ?InputParameter asmo:hasValue ?InputParameter_hasValuevalue .\n",
      "    ?AtomicScaleSample cmso:hasCalculatedProperty ?CalculatedProperty .\n",
      "    ?CalculatedProperty asmo:hasValue ?CalculatedProperty_hasValuevalue .\n",
      "    ?cmso_ChemicalElement cmso:hasElementRatio ?hasElementRatiovalue .\n",
      "    ?InputParameter rdfs:label ?InputParameter_labelvalue .\n",
      "    ?CalculatedProperty rdfs:label ?CalculatedProperty_labelvalue .\n",
      "    ?AtomicScaleSample rdf:type cmso:AtomicScaleSample .\n",
      "FILTER ((((?hasChemicalSymbolvalue=\"Al\"^^xsd:string)&&(?hasElementRatiovalue=\"1.0\"^^xsd:float))&&(?InputParameter_labelvalue=\"temperature\"^^xsd:string))&&(?CalculatedProperty_labelvalue=\"Volume\"^^xsd:string))\n",
      "}\n"
     ]
    }
   ],
   "source": [
    "print(q)"
   ]
  },
  {
   "cell_type": "markdown",
   "metadata": {},
   "source": [
    "Sort by temperature"
   ]
  },
  {
   "cell_type": "code",
   "execution_count": 7,
   "metadata": {},
   "outputs": [],
   "source": [
    "q = q.sort_values('InputParameter_hasValuevalue')"
   ]
  },
  {
   "cell_type": "markdown",
   "metadata": {},
   "source": [
    "Extract the relevant values into a numpy array"
   ]
  },
  {
   "cell_type": "code",
   "execution_count": 8,
   "metadata": {},
   "outputs": [],
   "source": [
    "temps = np.array([x.toPython() for x in q.InputParameter_hasValuevalue.values])\n",
    "volumes = np.array([x.toPython() for x in q.CalculatedProperty_hasValuevalue.values])"
   ]
  },
  {
   "cell_type": "code",
   "execution_count": 9,
   "metadata": {},
   "outputs": [],
   "source": [
    "temps, indices = np.unique(temps, return_index=True)\n",
    "volumes = volumes[indices]"
   ]
  },
  {
   "cell_type": "markdown",
   "metadata": {},
   "source": [
    "Plot the results"
   ]
  },
  {
   "cell_type": "code",
   "execution_count": 10,
   "metadata": {},
   "outputs": [
    {
     "data": {
      "text/plain": [
       "Text(0, 0.5, 'Volume ($\\\\AA^3$/atom)')"
      ]
     },
     "execution_count": 10,
     "metadata": {},
     "output_type": "execute_result"
    },
    {
     "data": {
      "image/png": "[encoded data removed]",
      "text/plain": [
       "<Figure size 640x480 with 1 Axes>"
      ]
     },
     "metadata": {},
     "output_type": "display_data"
    }
   ],
   "source": [
    "plt.plot(temps, volumes, 'o')\n",
    "plt.xlabel('Temperature (K)')\n",
    "plt.ylabel('Volume ($\\AA^3$/atom)')"
   ]
  },
  {
   "cell_type": "markdown",
   "metadata": {},
   "source": [
    "Calculate the coefficient of volumetric thermal expansion around 273 K,\n",
    "\n",
    "$$\n",
    "\\alpha = \\frac{1}{V} \\frac{\\partial V}{\\partial T}\n",
    "$$"
   ]
  },
  {
   "cell_type": "code",
   "execution_count": 11,
   "metadata": {},
   "outputs": [
    {
     "data": {
      "text/plain": [
       "6.599158944090497e-05"
      ]
     },
     "execution_count": 11,
     "metadata": {},
     "output_type": "execute_result"
    }
   ],
   "source": [
    "anchor_arg = np.argsort(np.abs(temps-273))[0]\n",
    "mind = anchor_arg-3\n",
    "maxd = anchor_arg+3\n",
    "fit = np.polyfit(temps[mind:maxd], volumes[mind:maxd], 1)\n",
    "(1/volumes[mind])*fit[0]"
   ]
  },
  {
   "cell_type": "markdown",
   "metadata": {},
   "source": [
    "Create a function to find for all elements in the dataset"
   ]
  },
  {
   "cell_type": "code",
   "execution_count": 58,
   "metadata": {},
   "outputs": [],
   "source": [
    "def calculate_alpha(element, kg, res_dict, anchor_temp=293):\n",
    "    condition = (kg.terms.cmso.hasChemicalSymbol==element) & (kg.terms.cmso.hasElementRatio==1.0) & (kg.terms.rdfs.label@kg.terms.asmo.InputParameter=='temperature') & (kg.terms.rdfs.label@kg.terms.cmso.CalculatedProperty=='Volume')\n",
    "    q = kg.auto_query(kg.terms.cmso.AtomicScaleSample, \n",
    "                  [condition,\n",
    "                   kg.terms.cmso.hasReference@kg.terms.asmo.hasInteratomicPotential, \n",
    "                   kg.terms.asmo.hasValue@kg.terms.asmo.InputParameter,\n",
    "                  kg.terms.asmo.hasValue@kg.terms.cmso.CalculatedProperty,])\n",
    "    q = q.sort_values('InputParameter_hasValuevalue')\n",
    "    temps = np.array([x.toPython() for x in q.InputParameter_hasValuevalue.values])\n",
    "    volumes = np.array([x.toPython() for x in q.CalculatedProperty_hasValuevalue.values])\n",
    "    temps, indices = np.unique(temps, return_index=True)\n",
    "    volumes = volumes[indices]\n",
    "    anchor_arg = np.argsort(np.abs(temps-anchor_temp))[0]\n",
    "    mind = anchor_arg-3\n",
    "    maxd = anchor_arg+3\n",
    "    fit = np.polyfit(temps[mind:maxd], volumes[mind:maxd], 1)\n",
    "    alpha = (1/volumes[mind])*fit[0]\n",
    "    res_dict[element] = {}\n",
    "    res_dict[element]['temp'] = temps\n",
    "    res_dict[element]['vol'] = volumes\n",
    "    res_dict[element]['alpha'] = alpha"
   ]
  },
  {
   "cell_type": "markdown",
   "metadata": {},
   "source": [
    "Check which elements are present in kg"
   ]
  },
  {
   "cell_type": "code",
   "execution_count": 59,
   "metadata": {},
   "outputs": [
    {
     "data": {
      "text/html": [
       "<div>\n",
       "<style scoped>\n",
       "    .dataframe tbody tr th:only-of-type {\n",
       "        vertical-align: middle;\n",
       "    }\n",
       "\n",
       "    .dataframe tbody tr th {\n",
       "        vertical-align: top;\n",
       "    }\n",
       "\n",
       "    .dataframe thead th {\n",
       "        text-align: right;\n",
       "    }\n",
       "</style>\n",
       "<table border=\"1\" class=\"dataframe\">\n",
       "  <thead>\n",
       "    <tr style=\"text-align: right;\">\n",
       "      <th></th>\n",
       "      <th>AtomicScaleSample</th>\n",
       "      <th>hasChemicalSymbolvalue</th>\n",
       "      <th>hasElementRatiovalue</th>\n",
       "    </tr>\n",
       "  </thead>\n",
       "  <tbody>\n",
       "    <tr>\n",
       "      <th>0</th>\n",
       "      <td>sample:000bdae3-cf92-44c2-a661-b68a2d21b3b5</td>\n",
       "      <td>Li</td>\n",
       "      <td>1.0</td>\n",
       "    </tr>\n",
       "    <tr>\n",
       "      <th>1</th>\n",
       "      <td>sample:002119b1-92b0-400e-84d9-58b83cab698d</td>\n",
       "      <td>Li</td>\n",
       "      <td>1.0</td>\n",
       "    </tr>\n",
       "    <tr>\n",
       "      <th>2</th>\n",
       "      <td>sample:00676a80-80e0-4fc6-9fab-086db0a92495</td>\n",
       "      <td>Al</td>\n",
       "      <td>1.0</td>\n",
       "    </tr>\n",
       "    <tr>\n",
       "      <th>3</th>\n",
       "      <td>sample:00921fa1-6ea1-4e35-b6b6-e843bf367f47</td>\n",
       "      <td>Ti</td>\n",
       "      <td>1.0</td>\n",
       "    </tr>\n",
       "    <tr>\n",
       "      <th>4</th>\n",
       "      <td>sample:009895bf-d7aa-4df2-acd7-7599a35503cc</td>\n",
       "      <td>Mg</td>\n",
       "      <td>1.0</td>\n",
       "    </tr>\n",
       "    <tr>\n",
       "      <th>...</th>\n",
       "      <td>...</td>\n",
       "      <td>...</td>\n",
       "      <td>...</td>\n",
       "    </tr>\n",
       "    <tr>\n",
       "      <th>2334</th>\n",
       "      <td>sample:ff42583d-ff7e-4ab4-af02-aa58b2d3fc08</td>\n",
       "      <td>Ge</td>\n",
       "      <td>1.0</td>\n",
       "    </tr>\n",
       "    <tr>\n",
       "      <th>2335</th>\n",
       "      <td>sample:ff73c664-610a-4feb-b06b-245ed2fcea6c</td>\n",
       "      <td>Ti</td>\n",
       "      <td>1.0</td>\n",
       "    </tr>\n",
       "    <tr>\n",
       "      <th>2336</th>\n",
       "      <td>sample:ff9f1f95-a59e-4901-b72f-694c50952194</td>\n",
       "      <td>Si</td>\n",
       "      <td>1.0</td>\n",
       "    </tr>\n",
       "    <tr>\n",
       "      <th>2337</th>\n",
       "      <td>sample:ffb4543c-5b79-4ce1-9efb-653d340c29cb</td>\n",
       "      <td>Ge</td>\n",
       "      <td>1.0</td>\n",
       "    </tr>\n",
       "    <tr>\n",
       "      <th>2338</th>\n",
       "      <td>sample:fff0a361-287a-43b5-9918-b4944a81da0c</td>\n",
       "      <td>Ge</td>\n",
       "      <td>1.0</td>\n",
       "    </tr>\n",
       "  </tbody>\n",
       "</table>\n",
       "<p>2339 rows × 3 columns</p>\n",
       "</div>"
      ],
      "text/plain": [
       "                                AtomicScaleSample hasChemicalSymbolvalue  \\\n",
       "0     sample:000bdae3-cf92-44c2-a661-b68a2d21b3b5                     Li   \n",
       "1     sample:002119b1-92b0-400e-84d9-58b83cab698d                     Li   \n",
       "2     sample:00676a80-80e0-4fc6-9fab-086db0a92495                     Al   \n",
       "3     sample:00921fa1-6ea1-4e35-b6b6-e843bf367f47                     Ti   \n",
       "4     sample:009895bf-d7aa-4df2-acd7-7599a35503cc                     Mg   \n",
       "...                                           ...                    ...   \n",
       "2334  sample:ff42583d-ff7e-4ab4-af02-aa58b2d3fc08                     Ge   \n",
       "2335  sample:ff73c664-610a-4feb-b06b-245ed2fcea6c                     Ti   \n",
       "2336  sample:ff9f1f95-a59e-4901-b72f-694c50952194                     Si   \n",
       "2337  sample:ffb4543c-5b79-4ce1-9efb-653d340c29cb                     Ge   \n",
       "2338  sample:fff0a361-287a-43b5-9918-b4944a81da0c                     Ge   \n",
       "\n",
       "     hasElementRatiovalue  \n",
       "0                     1.0  \n",
       "1                     1.0  \n",
       "2                     1.0  \n",
       "3                     1.0  \n",
       "4                     1.0  \n",
       "...                   ...  \n",
       "2334                  1.0  \n",
       "2335                  1.0  \n",
       "2336                  1.0  \n",
       "2337                  1.0  \n",
       "2338                  1.0  \n",
       "\n",
       "[2339 rows x 3 columns]"
      ]
     },
     "execution_count": 59,
     "metadata": {},
     "output_type": "execute_result"
    }
   ],
   "source": [
    "q = kg.auto_query(kg.terms.cmso.AtomicScaleSample, [kg.terms.cmso.hasChemicalSymbol, kg.terms.cmso.hasElementRatio])\n",
    "q"
   ]
  },
  {
   "cell_type": "code",
   "execution_count": 60,
   "metadata": {},
   "outputs": [
    {
     "data": {
      "text/plain": [
       "array(['Al', 'Ar', 'Fe', 'Ge', 'Li', 'Mg', 'Si', 'Ti'], dtype='<U2')"
      ]
     },
     "execution_count": 60,
     "metadata": {},
     "output_type": "execute_result"
    }
   ],
   "source": [
    "symbols = np.array(q.hasChemicalSymbolvalue.values)\n",
    "ratios = np.array(q.hasElementRatiovalue.values)\n",
    "\n",
    "#take only pure elements\n",
    "symbols = [symbols[count].toPython() for count, x in enumerate(ratios) if x.toPython()==1]\n",
    "symbols = np.unique(symbols)\n",
    "symbols"
   ]
  },
  {
   "cell_type": "markdown",
   "metadata": {},
   "source": [
    "We filter a list of metals"
   ]
  },
  {
   "cell_type": "code",
   "execution_count": 66,
   "metadata": {},
   "outputs": [],
   "source": [
    "symbols = ['Al', 'Fe', 'Mg', 'Ti']"
   ]
  },
  {
   "cell_type": "code",
   "execution_count": 67,
   "metadata": {},
   "outputs": [],
   "source": [
    "res_dict = {}\n",
    "for symbol in symbols:\n",
    "    calculate_alpha(symbol, kg, res_dict)"
   ]
  },
  {
   "cell_type": "code",
   "execution_count": 68,
   "metadata": {},
   "outputs": [
    {
     "data": {
      "image/png": "[encoded data removed]",
      "text/plain": [
       "<Figure size 484.295x387.436 with 1 Axes>"
      ]
     },
     "metadata": {},
     "output_type": "display_data"
    }
   ],
   "source": [
    "cmap = matplotlib.colormaps['Dark2']\n",
    "colors = np.linspace(0, 1, len(res_dict))\n",
    "\n",
    "mlt = Multiplot(width=350, ratio=0.8)\n",
    "count = 0\n",
    "for key, val in res_dict.items():\n",
    "    mlt[0,0].plot(val['temp'], val['vol'], label=key, color=cmap(colors[count]))\n",
    "    count += 1\n",
    "mlt[0,0].legend(frameon=False)\n",
    "mlt[0,0].set_xlabel('Temperature (K)', fontsize=11)\n",
    "mlt[0,0].set_ylabel('Volume ($\\AA^3$/atom)', fontsize=11)\n",
    "plt.savefig('thermal_expansion.png', dpi=300, bbox_inches='tight')"
   ]
  },
  {
   "cell_type": "code",
   "execution_count": 69,
   "metadata": {},
   "outputs": [
    {
     "name": "stdout",
     "output_type": "stream",
     "text": [
      "Al 6.626092529857431e-05\n",
      "Fe 2.095294054009922e-05\n",
      "Mg 6.897171999379069e-05\n",
      "Ti 4.2246331402419025e-05\n"
     ]
    }
   ],
   "source": [
    "for key, val in res_dict.items():\n",
    "    print(key, val['alpha'])"
   ]
  },
  {
   "cell_type": "markdown",
   "metadata": {},
   "source": [
    "Generate latex table"
   ]
  },
  {
   "cell_type": "code",
   "execution_count": 70,
   "metadata": {},
   "outputs": [
    {
     "name": "stdout",
     "output_type": "stream",
     "text": [
      "\\begin{table}[]\n",
      "\\begin{tabular}{ll}\n",
      "Element & Alpha \\\\\n",
      "Al & 66.26 \\\\\n",
      "Fe & 20.95 \\\\\n",
      "Mg & 68.97 \\\\\n",
      "Ti & 42.25 \\\\\n",
      "\\end{tabular}\n",
      "\\caption{}\n",
      "\\label{undefined}\n",
      "\\end{table}\n"
     ]
    }
   ],
   "source": [
    "print('\\\\begin{table}[]')\n",
    "print('\\\\begin{tabular}{ll}')\n",
    "print('Element & Alpha \\\\\\\\')\n",
    "for key, val in res_dict.items():\n",
    "    print(f'{key} & {np.round(val[\"alpha\"]*1e6, decimals=2)} \\\\\\\\')\n",
    "print('\\end{tabular}')\n",
    "print('\\caption{}')\n",
    "print('\\label{undefined}')\n",
    "print('\\end{table}')"
   ]
  }
 ],
 "metadata": {
  "kernelspec": {
   "display_name": "Python 3 (ipykernel)",
   "language": "python",
   "name": "python3"
  },
  "language_info": {
   "codemirror_mode": {
    "name": "ipython",
    "version": 3
   },
   "file_extension": ".py",
   "mimetype": "text/x-python",
   "name": "python",
   "nbconvert_exporter": "python",
   "pygments_lexer": "ipython3",
   "version": "3.11.10"
  }
 },
 "nbformat": 4,
 "nbformat_minor": 4
}
