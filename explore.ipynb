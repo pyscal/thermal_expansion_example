{
 "cells": [
  {
   "cell_type": "markdown",
   "metadata": {},
   "source": [
    "## <font style=\"font-family:roboto;color:#455e6c\"> Ontologies and workflows in computational materials science</font>  "
   ]
  },
  {
   "cell_type": "markdown",
   "metadata": {},
   "source": [
    "<div class=\"admonition note\" name=\"html-admonition\" style=\"background:#e3f2fd; padding: 10px\">\n",
    "<font style=\"font-family:roboto;color:#455e6c\"> IUC17: Ontologies for defects in crystals </font> </br>\n",
    "</div>"
   ]
  },
  {
   "cell_type": "markdown",
   "metadata": {},
   "source": [
    "<table table style='table-layout:fixed;width:100%' border=\"0\">\n",
    "  <th style='width: 33%;'> </th>\n",
    "<tr>\n",
    "  <td>\n",
    "    <img src=\"images/ocdo_logo.png\" width=\"50%\" align=\"center\">\n",
    "  </td>\n",
    "  <td>\n",
    "    <img src=\"images/logo.png\" width=\"50%\" align=\"center\">\n",
    "  </td>\n",
    "  <td>\n",
    "    <img src=\"images/Logo_NFDI-MatWerk.png\" width=\"50%\" align=\"center\">\n",
    "  </td>\n",
    "</tr>\n",
    "</table>"
   ]
  },
  {
   "cell_type": "markdown",
   "metadata": {},
   "source": [
    "### <font style=\"font-family:roboto;color:#455e6c\"> Obtaining new materials properties from existing data </font>"
   ]
  },
  {
   "cell_type": "markdown",
   "metadata": {},
   "source": [
    "Explore the DC3 dataset to extract physical quantities which were not explicitely calculated. The dataset was used for training ML model for structural recognition. We have made the annotated set which includes information not just about the structure, but also about the simulation method (MD), including temperature, potential."
   ]
  },
  {
   "cell_type": "markdown",
   "metadata": {},
   "source": [
    "Start with imports"
   ]
  },
  {
   "cell_type": "code",
   "execution_count": 1,
   "metadata": {},
   "outputs": [],
   "source": [
    "import matplotlib.pyplot as plt\n",
    "import numpy as np\n",
    "from pychromatic import Multiplot\n",
    "import matplotlib\n",
    "from atomrdf import System, KnowledgeGraph"
   ]
  },
  {
   "cell_type": "markdown",
   "metadata": {},
   "source": [
    "Unarchive the dataset. Can be done with either a tar archive or simply a folder."
   ]
  },
  {
   "cell_type": "code",
   "execution_count": 2,
   "metadata": {},
   "outputs": [],
   "source": [
    "#kg = KnowledgeGraph.unarchive('DC3_dataset_00.tar.gz')\n",
    "kg = KnowledgeGraph.unarchive('DC3_dataset_00', compress=False)"
   ]
  },
  {
   "cell_type": "code",
   "execution_count": 3,
   "metadata": {},
   "outputs": [
    {
     "data": {
      "text/plain": [
       "2339"
      ]
     },
     "execution_count": 3,
     "metadata": {},
     "output_type": "execute_result"
    }
   ],
   "source": [
    "kg.n_samples"
   ]
  },
  {
   "cell_type": "markdown",
   "metadata": {},
   "source": [
    "There are more than 2000 MD snapshots in this dataset. "
   ]
  },
  {
   "cell_type": "markdown",
   "metadata": {},
   "source": [
    "Create a function to find for all elements in the dataset"
   ]
  },
  {
   "cell_type": "markdown",
   "metadata": {},
   "source": [
    "The first few lines of the function queries the knowledge graph to extract the necessary values."
   ]
  },
  {
   "cell_type": "markdown",
   "metadata": {},
   "source": [
    "```\n",
    "condition = (kg.terms.cmso.hasChemicalSymbol==element) & (kg.terms.cmso.hasElementRatio==1.0) & (kg.terms.rdfs.label@kg.terms.asmo.InputParameter=='temperature') & (kg.terms.rdfs.label@kg.terms.cmso.CalculatedProperty=='Volume')\n",
    "```\n",
    "This is the condition for the automated SPARQL query. Here, only pure structures of the given element is selected, and the associated temperature and volume is selected.\n",
    "\n",
    "```\n",
    "q = kg.auto_query(kg.terms.cmso.AtomicScaleSample, \n",
    "                  [condition,\n",
    "                   kg.terms.cmso.hasReference@kg.terms.asmo.hasInteratomicPotential, \n",
    "                   kg.terms.asmo.hasValue@kg.terms.asmo.InputParameter,\n",
    "                  kg.terms.asmo.hasValue@kg.terms.cmso.CalculatedProperty,])\n",
    "```\n",
    "\n",
    "This condition is then used to perform the query, and get data including the interatomic potential. This ensures that only calculations done with the same interatomic potential is used for calculating the thermal expansion coefficient."
   ]
  },
  {
   "cell_type": "code",
   "execution_count": 58,
   "metadata": {},
   "outputs": [],
   "source": [
    "def calculate_alpha(element, kg, res_dict, anchor_temp=293):\n",
    "    condition = (kg.terms.cmso.hasChemicalSymbol==element) & (kg.terms.cmso.hasElementRatio==1.0) & (kg.terms.rdfs.label@kg.terms.asmo.InputParameter=='temperature') & (kg.terms.rdfs.label@kg.terms.cmso.CalculatedProperty=='Volume')\n",
    "    q = kg.auto_query(kg.terms.cmso.AtomicScaleSample, \n",
    "                  [condition,\n",
    "                   kg.terms.cmso.hasReference@kg.terms.asmo.hasInteratomicPotential, \n",
    "                   kg.terms.asmo.hasValue@kg.terms.asmo.InputParameter,\n",
    "                  kg.terms.asmo.hasValue@kg.terms.cmso.CalculatedProperty,])\n",
    "    q = q.sort_values('InputParameter_hasValuevalue')\n",
    "    temps = np.array([x.toPython() for x in q.InputParameter_hasValuevalue.values])\n",
    "    volumes = np.array([x.toPython() for x in q.CalculatedProperty_hasValuevalue.values])\n",
    "    temps, indices = np.unique(temps, return_index=True)\n",
    "    volumes = volumes[indices]\n",
    "    anchor_arg = np.argsort(np.abs(temps-anchor_temp))[0]\n",
    "    mind = anchor_arg-3\n",
    "    maxd = anchor_arg+3\n",
    "    fit = np.polyfit(temps[mind:maxd], volumes[mind:maxd], 1)\n",
    "    alpha = (1/volumes[mind])*fit[0]\n",
    "    res_dict[element] = {}\n",
    "    res_dict[element]['temp'] = temps\n",
    "    res_dict[element]['vol'] = volumes\n",
    "    res_dict[element]['alpha'] = alpha"
   ]
  },
  {
   "cell_type": "markdown",
   "metadata": {},
   "source": [
    "Finally, values around the given temperature are selected, a linear fit is made to the data, and the coefficient of thermal expansion is calculated."
   ]
  },
  {
   "cell_type": "markdown",
   "metadata": {},
   "source": [
    "Before applying the function, check which elements are present in kg"
   ]
  },
  {
   "cell_type": "code",
   "execution_count": 59,
   "metadata": {},
   "outputs": [
    {
     "data": {
      "text/html": [
       "<div>\n",
       "<style scoped>\n",
       "    .dataframe tbody tr th:only-of-type {\n",
       "        vertical-align: middle;\n",
       "    }\n",
       "\n",
       "    .dataframe tbody tr th {\n",
       "        vertical-align: top;\n",
       "    }\n",
       "\n",
       "    .dataframe thead th {\n",
       "        text-align: right;\n",
       "    }\n",
       "</style>\n",
       "<table border=\"1\" class=\"dataframe\">\n",
       "  <thead>\n",
       "    <tr style=\"text-align: right;\">\n",
       "      <th></th>\n",
       "      <th>AtomicScaleSample</th>\n",
       "      <th>hasChemicalSymbolvalue</th>\n",
       "      <th>hasElementRatiovalue</th>\n",
       "    </tr>\n",
       "  </thead>\n",
       "  <tbody>\n",
       "    <tr>\n",
       "      <th>0</th>\n",
       "      <td>sample:000bdae3-cf92-44c2-a661-b68a2d21b3b5</td>\n",
       "      <td>Li</td>\n",
       "      <td>1.0</td>\n",
       "    </tr>\n",
       "    <tr>\n",
       "      <th>1</th>\n",
       "      <td>sample:002119b1-92b0-400e-84d9-58b83cab698d</td>\n",
       "      <td>Li</td>\n",
       "      <td>1.0</td>\n",
       "    </tr>\n",
       "    <tr>\n",
       "      <th>2</th>\n",
       "      <td>sample:00676a80-80e0-4fc6-9fab-086db0a92495</td>\n",
       "      <td>Al</td>\n",
       "      <td>1.0</td>\n",
       "    </tr>\n",
       "    <tr>\n",
       "      <th>3</th>\n",
       "      <td>sample:00921fa1-6ea1-4e35-b6b6-e843bf367f47</td>\n",
       "      <td>Ti</td>\n",
       "      <td>1.0</td>\n",
       "    </tr>\n",
       "    <tr>\n",
       "      <th>4</th>\n",
       "      <td>sample:009895bf-d7aa-4df2-acd7-7599a35503cc</td>\n",
       "      <td>Mg</td>\n",
       "      <td>1.0</td>\n",
       "    </tr>\n",
       "    <tr>\n",
       "      <th>...</th>\n",
       "      <td>...</td>\n",
       "      <td>...</td>\n",
       "      <td>...</td>\n",
       "    </tr>\n",
       "    <tr>\n",
       "      <th>2334</th>\n",
       "      <td>sample:ff42583d-ff7e-4ab4-af02-aa58b2d3fc08</td>\n",
       "      <td>Ge</td>\n",
       "      <td>1.0</td>\n",
       "    </tr>\n",
       "    <tr>\n",
       "      <th>2335</th>\n",
       "      <td>sample:ff73c664-610a-4feb-b06b-245ed2fcea6c</td>\n",
       "      <td>Ti</td>\n",
       "      <td>1.0</td>\n",
       "    </tr>\n",
       "    <tr>\n",
       "      <th>2336</th>\n",
       "      <td>sample:ff9f1f95-a59e-4901-b72f-694c50952194</td>\n",
       "      <td>Si</td>\n",
       "      <td>1.0</td>\n",
       "    </tr>\n",
       "    <tr>\n",
       "      <th>2337</th>\n",
       "      <td>sample:ffb4543c-5b79-4ce1-9efb-653d340c29cb</td>\n",
       "      <td>Ge</td>\n",
       "      <td>1.0</td>\n",
       "    </tr>\n",
       "    <tr>\n",
       "      <th>2338</th>\n",
       "      <td>sample:fff0a361-287a-43b5-9918-b4944a81da0c</td>\n",
       "      <td>Ge</td>\n",
       "      <td>1.0</td>\n",
       "    </tr>\n",
       "  </tbody>\n",
       "</table>\n",
       "<p>2339 rows × 3 columns</p>\n",
       "</div>"
      ],
      "text/plain": [
       "                                AtomicScaleSample hasChemicalSymbolvalue  \\\n",
       "0     sample:000bdae3-cf92-44c2-a661-b68a2d21b3b5                     Li   \n",
       "1     sample:002119b1-92b0-400e-84d9-58b83cab698d                     Li   \n",
       "2     sample:00676a80-80e0-4fc6-9fab-086db0a92495                     Al   \n",
       "3     sample:00921fa1-6ea1-4e35-b6b6-e843bf367f47                     Ti   \n",
       "4     sample:009895bf-d7aa-4df2-acd7-7599a35503cc                     Mg   \n",
       "...                                           ...                    ...   \n",
       "2334  sample:ff42583d-ff7e-4ab4-af02-aa58b2d3fc08                     Ge   \n",
       "2335  sample:ff73c664-610a-4feb-b06b-245ed2fcea6c                     Ti   \n",
       "2336  sample:ff9f1f95-a59e-4901-b72f-694c50952194                     Si   \n",
       "2337  sample:ffb4543c-5b79-4ce1-9efb-653d340c29cb                     Ge   \n",
       "2338  sample:fff0a361-287a-43b5-9918-b4944a81da0c                     Ge   \n",
       "\n",
       "     hasElementRatiovalue  \n",
       "0                     1.0  \n",
       "1                     1.0  \n",
       "2                     1.0  \n",
       "3                     1.0  \n",
       "4                     1.0  \n",
       "...                   ...  \n",
       "2334                  1.0  \n",
       "2335                  1.0  \n",
       "2336                  1.0  \n",
       "2337                  1.0  \n",
       "2338                  1.0  \n",
       "\n",
       "[2339 rows x 3 columns]"
      ]
     },
     "execution_count": 59,
     "metadata": {},
     "output_type": "execute_result"
    }
   ],
   "source": [
    "q = kg.auto_query(kg.terms.cmso.AtomicScaleSample, [kg.terms.cmso.hasChemicalSymbol, kg.terms.cmso.hasElementRatio])\n",
    "q"
   ]
  },
  {
   "cell_type": "code",
   "execution_count": 60,
   "metadata": {},
   "outputs": [
    {
     "data": {
      "text/plain": [
       "array(['Al', 'Ar', 'Fe', 'Ge', 'Li', 'Mg', 'Si', 'Ti'], dtype='<U2')"
      ]
     },
     "execution_count": 60,
     "metadata": {},
     "output_type": "execute_result"
    }
   ],
   "source": [
    "symbols = np.array(q.hasChemicalSymbolvalue.values)\n",
    "ratios = np.array(q.hasElementRatiovalue.values)\n",
    "\n",
    "#take only pure elements\n",
    "symbols = [symbols[count].toPython() for count, x in enumerate(ratios) if x.toPython()==1]\n",
    "symbols = np.unique(symbols)\n",
    "symbols"
   ]
  },
  {
   "cell_type": "markdown",
   "metadata": {},
   "source": [
    "We filter a list of metals"
   ]
  },
  {
   "cell_type": "code",
   "execution_count": 66,
   "metadata": {},
   "outputs": [],
   "source": [
    "symbols = ['Al', 'Fe', 'Mg', 'Ti']"
   ]
  },
  {
   "cell_type": "markdown",
   "metadata": {},
   "source": [
    "And use our function to calculate:"
   ]
  },
  {
   "cell_type": "code",
   "execution_count": 67,
   "metadata": {},
   "outputs": [],
   "source": [
    "res_dict = {}\n",
    "for symbol in symbols:\n",
    "    calculate_alpha(symbol, kg, res_dict)"
   ]
  },
  {
   "cell_type": "markdown",
   "metadata": {},
   "source": [
    "Plot the results"
   ]
  },
  {
   "cell_type": "code",
   "execution_count": 68,
   "metadata": {},
   "outputs": [
    {
     "data": {
      "image/png": "[encoded data removed]",
      "text/plain": [
       "<Figure size 484.295x387.436 with 1 Axes>"
      ]
     },
     "metadata": {},
     "output_type": "display_data"
    }
   ],
   "source": [
    "cmap = matplotlib.colormaps['Dark2']\n",
    "colors = np.linspace(0, 1, len(res_dict))\n",
    "\n",
    "mlt = Multiplot(width=350, ratio=0.8)\n",
    "count = 0\n",
    "for key, val in res_dict.items():\n",
    "    mlt[0,0].plot(val['temp'], val['vol'], label=key, color=cmap(colors[count]))\n",
    "    count += 1\n",
    "mlt[0,0].legend(frameon=False)\n",
    "mlt[0,0].set_xlabel('Temperature (K)', fontsize=11)\n",
    "mlt[0,0].set_ylabel('Volume ($\\AA^3$/atom)', fontsize=11)\n",
    "plt.savefig('thermal_expansion.png', dpi=300, bbox_inches='tight')"
   ]
  },
  {
   "cell_type": "code",
   "execution_count": 69,
   "metadata": {},
   "outputs": [
    {
     "name": "stdout",
     "output_type": "stream",
     "text": [
      "Al 6.626092529857431e-05\n",
      "Fe 2.095294054009922e-05\n",
      "Mg 6.897171999379069e-05\n",
      "Ti 4.2246331402419025e-05\n"
     ]
    }
   ],
   "source": [
    "for key, val in res_dict.items():\n",
    "    print(key, val['alpha'])"
   ]
  },
  {
   "cell_type": "markdown",
   "metadata": {},
   "source": [
    "<div class=\"admonition note\" name=\"html-admonition\" style=\"background:#e3f2fd; padding: 10px\">\n",
    "<font style=\"font-family:roboto;color:#455e6c;text-align:justify\"> <a href=\"https://atomrdf.pyscal.org/en/latest/\">atomRDF</a> | <a href=\"https://github.com/OCDO\">Open Crystallographic Defects Ontologies</a> | <a href=\"https://nfdi-matwerk.de/\">NFDI MatWerk</a> </font> </br>\n",
    "</div>"
   ]
  }
 ],
 "metadata": {
  "kernelspec": {
   "display_name": "Python 3 (ipykernel)",
   "language": "python",
   "name": "python3"
  },
  "language_info": {
   "codemirror_mode": {
    "name": "ipython",
    "version": 3
   },
   "file_extension": ".py",
   "mimetype": "text/x-python",
   "name": "python",
   "nbconvert_exporter": "python",
   "pygments_lexer": "ipython3",
   "version": "3.11.10"
  }
 },
 "nbformat": 4,
 "nbformat_minor": 4
}
